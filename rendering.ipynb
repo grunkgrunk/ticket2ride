{
 "cells": [
  {
   "cell_type": "code",
   "execution_count": 27,
   "metadata": {},
   "outputs": [],
   "source": [
    "import networkx as nx\n",
    "import matplotlib.pyplot as plt\n",
    "\n",
    "G = nx.Graph()\n",
    "\n",
    "# Add nodes to the graph\n",
    "G.add_node(\"København\")\n",
    "G.add_node(\"Odense\")\n",
    "G.add_node(\"Aarhus\")\n",
    "\n",
    "# Add edges to the graph\n",
    "G.add_edge(\"København\", \"Odense\", cost = 5, owned_by = None, color = \"red\")\n",
    "G.add_edge(\"Aarhus\", \"Odense\", cost = 10, owned_by = \"red\", color = \"blue\")\n",
    "G.add_edge(\"Aarhus\", \"København\", cost = 15, owned_by = \"blue\", color = \"green\")\n",
    "\n",
    "def render_board(graph):\n",
    "\n",
    "    G = graph.copy()\n",
    "    \n",
    "    pos = nx.spring_layout(G, seed=42)\n",
    "    # Get edge colors from 'owned_by' attribute. If None, then assign a default color (e.g., \"black\").\n",
    "    colors = [edata['owned_by'] if edata['owned_by'] is not None else edata[\"color\"] for _, _, edata in G.edges(data=True)]\n",
    "    # Specify line widths\n",
    "    widths = [4 if edata['owned_by'] is not None else 1 for _, _, edata in G.edges(data=True)]\n",
    "\n",
    "    # Get edge costs if 'owned_by' attribute is None\n",
    "    edge_costs = {(u, v): edata['cost'] for u, v, edata in G.edges(data=True) if edata['owned_by'] is None}\n",
    "\n",
    "    styles = ['dashed' if edata['owned_by'] is None else 'solid' for _, _, edata in G.edges(data=True)]\n",
    "    # Draw the graph\n",
    "    nx.draw(G, pos, node_color=\"white\", edge_color=colors, width=widths, with_labels=True, style = styles)\n",
    "    nx.draw_networkx_edge_labels(G, pos, edge_labels=edge_costs)\n",
    "\n",
    "    plt.show()\n"
   ]
  },
  {
   "cell_type": "code",
   "execution_count": 29,
   "metadata": {},
   "outputs": [
    {
     "data": {
      "image/png": "[encoded data removed]",
      "text/plain": [
       "<Figure size 432x288 with 1 Axes>"
      ]
     },
     "metadata": {},
     "output_type": "display_data"
    }
   ],
   "source": [
    "render_board(G)"
   ]
  },
  {
   "cell_type": "code",
   "execution_count": null,
   "metadata": {},
   "outputs": [],
   "source": []
  }
 ],
 "metadata": {
  "kernelspec": {
   "display_name": "Python 3",
   "language": "python",
   "name": "python3"
  },
  "language_info": {
   "codemirror_mode": {
    "name": "ipython",
    "version": 3
   },
   "file_extension": ".py",
   "mimetype": "text/x-python",
   "name": "python",
   "nbconvert_exporter": "python",
   "pygments_lexer": "ipython3",
   "version": "3.10.6"
  },
  "orig_nbformat": 4
 },
 "nbformat": 4,
 "nbformat_minor": 2
}
